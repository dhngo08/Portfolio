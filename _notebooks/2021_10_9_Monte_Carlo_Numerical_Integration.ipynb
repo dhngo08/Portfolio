{
 "cells": [
  {
   "cell_type": "markdown",
   "metadata": {
    "id": "4P0CPIGazdrS"
   },
   "source": [
    "# Monte Carlo Numerical Integration\n",
    "\n",
    "> Hey there, this is my first post! What I have is a simple and sweet exercise on numerical integration.\n",
    ">\n",
    "> For this exercise, I apply Monte Carlo to randomly draw $(x, y)$ values in $[-\\pi,\\pi]\\times [0,1]$. \n",
    ">\n",
    "> I then use those values to compute $\\int^\\pi_{-\\pi}|cos(2x)|dx=4$. \n",
    "> \n",
    "\n",
    "- toc: true\n",
    "- badges: true\n",
    "- comments: true\n",
    "- categories: programming exericse, mathematics, monte carlo\n"
   ]
  },
  {
   "cell_type": "markdown",
   "metadata": {
    "id": "vSN8ty6xzdrX"
   },
   "source": [
    "The code is as follows:"
   ]
  },
  {
   "cell_type": "code",
   "execution_count": 1,
   "metadata": {
    "id": "_7LwNwoHzdrX"
   },
   "outputs": [],
   "source": [
    "# import libraries\n",
    "import math\n",
    "import numpy as np\n",
    "from scipy import random\n",
    "\n",
    "# string 'fx' is a function in terms of x\n",
    "# a is the lower limit\n",
    "# b is the upper limit\n",
    "# n is the sample size\n",
    "\n",
    "def mc_integral(fx,a,b,n): # defining monte carlo numerical integration method\n",
    "    func  = lambda x: eval(fx) # argument x and function fx; string fx is parsed and evaluated as a python expression\n",
    "    xrand = random.uniform(a,b,n) # generating x values from a normal distribution with range a to b\n",
    "    sum_fx = 0 # empty arry to store y values of fx\n",
    "    for i in range(n):\n",
    "        sum_fx += func(xrand[i]) # summation of computing x values into fx to generate y values\n",
    "    answer = (b-a)/n * sum_fx # computing the definite integral of fx between a and b\n",
    "    return answer\n"
   ]
  },
  {
   "cell_type": "markdown",
   "metadata": {
    "id": "jkEeH45-zdrZ"
   },
   "source": [
    "The function **mc_integral** should produce some pretty accurate integrations. \n",
    "\n",
    "Let us try integrating $|cos(2x)|$ with the lower bound $-\\pi$, upper bound $\\pi$, and a sample size 100,000."
   ]
  },
  {
   "cell_type": "code",
   "execution_count": 2,
   "metadata": {
    "colab": {
     "base_uri": "https://localhost:8080/"
    },
    "id": "MxdxBv1Ozdra",
    "outputId": "c7c8c1bb-161a-482d-d239-6540c2bc1b6c"
   },
   "outputs": [
    {
     "name": "stdout",
     "output_type": "stream",
     "text": [
      "4.00146350409084\n"
     ]
    }
   ],
   "source": [
    "print(mc_integral('abs(math.cos(2*x))',-np.pi,np.pi, 100000))"
   ]
  },
  {
   "cell_type": "markdown",
   "metadata": {
    "id": "_1ooITAwzdrb"
   },
   "source": [
    "With the above code, we find that $\\int^\\pi_{-\\pi}|cos(2x)|dx\\approx4$, a value very close to 4. Decent enough, right?"
   ]
  }
 ],
 "metadata": {
  "colab": {
   "name": "2021-10-9-Monte-Carlo-Numerical-Integration.ipynb",
   "provenance": []
  },
  "kernelspec": {
   "display_name": "Python 3",
   "language": "python",
   "name": "python3"
  },
  "language_info": {
   "codemirror_mode": {
    "name": "ipython",
    "version": 3
   },
   "file_extension": ".py",
   "mimetype": "text/x-python",
   "name": "python",
   "nbconvert_exporter": "python",
   "pygments_lexer": "ipython3",
   "version": "3.8.3"
  }
 },
 "nbformat": 4,
 "nbformat_minor": 1
}
